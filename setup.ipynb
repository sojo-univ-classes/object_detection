{
 "cells": [
  {
   "cell_type": "code",
   "execution_count": null,
   "id": "b86d5ca0",
   "metadata": {},
   "outputs": [],
   "source": [
    "from google.colab import drive\n",
    "drive.mount('/content/drive')\n",
    "\n",
    "%cd /content/drive/MyDrive/\n",
    "!git clone https://github.com/sojo-univ-classes/object_detection.git\n",
    "%cd object_detection"
   ]
  }
 ],
 "metadata": {
  "language_info": {
   "name": "python"
  }
 },
 "nbformat": 4,
 "nbformat_minor": 5
}
